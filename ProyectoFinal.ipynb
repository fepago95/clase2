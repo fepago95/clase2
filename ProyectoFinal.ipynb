{
  "cells": [
    {
      "cell_type": "markdown",
      "metadata": {
        "id": "view-in-github",
        "colab_type": "text"
      },
      "source": [
        "<a href=\"https://colab.research.google.com/github/fepago95/clase2/blob/main/ProyectoFinal.ipynb\" target=\"_parent\"><img src=\"https://colab.research.google.com/assets/colab-badge.svg\" alt=\"Open In Colab\"/></a>"
      ]
    },
    {
      "cell_type": "markdown",
      "metadata": {
        "id": "xhWqzIvNmeLc"
      },
      "source": [
        "# PROYECTO FINAL\n",
        "\n",
        "### NOMBRE: Federico Parejea Gómez / C.C: 1053840480\n",
        "### CURSO: Programación para Ingenieria - Maestria en Ingenieria\n"
      ]
    },
    {
      "cell_type": "markdown",
      "metadata": {
        "id": "w48yMWO0meLg"
      },
      "source": [
        "## Planteamiento del problema\n",
        "\n",
        "Se presenta una base de "
      ]
    },
    {
      "cell_type": "code",
      "execution_count": 61,
      "metadata": {
        "id": "cGmPlT35meLh"
      },
      "outputs": [],
      "source": [
        "import pandas as pd\n",
        "import numpy as np\n",
        "import matplotlib.pyplot as plt\n",
        "import matplotlib as mpl\n",
        "import seaborn as sns\n",
        "import sklearn\n",
        "\n",
        "%matplotlib inline"
      ]
    },
    {
      "cell_type": "code",
      "execution_count": 62,
      "metadata": {
        "colab": {
          "base_uri": "https://localhost:8080/",
          "height": 427
        },
        "id": "p5lFthEGmeLi",
        "outputId": "2c70e263-bb9f-41b0-c008-af24cdf1e5b4"
      },
      "outputs": [
        {
          "output_type": "execute_result",
          "data": {
            "text/plain": [
              "   orden  facultad  sexo  hermanos  libros_leidos  prom_matematicas  \\\n",
              "0      1         2     1         3              4               2.6   \n",
              "1      2         2     2         2              2               4.1   \n",
              "2      3         1     2         4              6               3.2   \n",
              "3      4         1     2         3              2               3.3   \n",
              "4      5         2     1         6             10               3.9   \n",
              "5      6         3     2         8              6               3.6   \n",
              "6      7         1     1         1              2               3.4   \n",
              "7      8         1     1         0              0               2.6   \n",
              "8      9         3     2         0              6               3.4   \n",
              "9     10         3     2         1              3               3.9   \n",
              "\n",
              "   act_trabaja  edad_anos  estatura  peso  cal_icfes  \n",
              "0            1         18       140    46        410  \n",
              "1            1         20       158    48        360  \n",
              "2            2         21       162    50        320  \n",
              "3            2         16       166    58        280  \n",
              "4            2         17       171    64        310  \n",
              "5            2         17       146    66        290  \n",
              "6            2         18       159    61        280  \n",
              "7            1         24       162    72        250  \n",
              "8            2         20       170    70        320  \n",
              "9            2         26       172    76        240  "
            ],
            "text/html": [
              "\n",
              "  <div id=\"df-7508e196-f933-4f14-b70a-71cf54230cca\">\n",
              "    <div class=\"colab-df-container\">\n",
              "      <div>\n",
              "<style scoped>\n",
              "    .dataframe tbody tr th:only-of-type {\n",
              "        vertical-align: middle;\n",
              "    }\n",
              "\n",
              "    .dataframe tbody tr th {\n",
              "        vertical-align: top;\n",
              "    }\n",
              "\n",
              "    .dataframe thead th {\n",
              "        text-align: right;\n",
              "    }\n",
              "</style>\n",
              "<table border=\"1\" class=\"dataframe\">\n",
              "  <thead>\n",
              "    <tr style=\"text-align: right;\">\n",
              "      <th></th>\n",
              "      <th>orden</th>\n",
              "      <th>facultad</th>\n",
              "      <th>sexo</th>\n",
              "      <th>hermanos</th>\n",
              "      <th>libros_leidos</th>\n",
              "      <th>prom_matematicas</th>\n",
              "      <th>act_trabaja</th>\n",
              "      <th>edad_anos</th>\n",
              "      <th>estatura</th>\n",
              "      <th>peso</th>\n",
              "      <th>cal_icfes</th>\n",
              "    </tr>\n",
              "  </thead>\n",
              "  <tbody>\n",
              "    <tr>\n",
              "      <th>0</th>\n",
              "      <td>1</td>\n",
              "      <td>2</td>\n",
              "      <td>1</td>\n",
              "      <td>3</td>\n",
              "      <td>4</td>\n",
              "      <td>2.6</td>\n",
              "      <td>1</td>\n",
              "      <td>18</td>\n",
              "      <td>140</td>\n",
              "      <td>46</td>\n",
              "      <td>410</td>\n",
              "    </tr>\n",
              "    <tr>\n",
              "      <th>1</th>\n",
              "      <td>2</td>\n",
              "      <td>2</td>\n",
              "      <td>2</td>\n",
              "      <td>2</td>\n",
              "      <td>2</td>\n",
              "      <td>4.1</td>\n",
              "      <td>1</td>\n",
              "      <td>20</td>\n",
              "      <td>158</td>\n",
              "      <td>48</td>\n",
              "      <td>360</td>\n",
              "    </tr>\n",
              "    <tr>\n",
              "      <th>2</th>\n",
              "      <td>3</td>\n",
              "      <td>1</td>\n",
              "      <td>2</td>\n",
              "      <td>4</td>\n",
              "      <td>6</td>\n",
              "      <td>3.2</td>\n",
              "      <td>2</td>\n",
              "      <td>21</td>\n",
              "      <td>162</td>\n",
              "      <td>50</td>\n",
              "      <td>320</td>\n",
              "    </tr>\n",
              "    <tr>\n",
              "      <th>3</th>\n",
              "      <td>4</td>\n",
              "      <td>1</td>\n",
              "      <td>2</td>\n",
              "      <td>3</td>\n",
              "      <td>2</td>\n",
              "      <td>3.3</td>\n",
              "      <td>2</td>\n",
              "      <td>16</td>\n",
              "      <td>166</td>\n",
              "      <td>58</td>\n",
              "      <td>280</td>\n",
              "    </tr>\n",
              "    <tr>\n",
              "      <th>4</th>\n",
              "      <td>5</td>\n",
              "      <td>2</td>\n",
              "      <td>1</td>\n",
              "      <td>6</td>\n",
              "      <td>10</td>\n",
              "      <td>3.9</td>\n",
              "      <td>2</td>\n",
              "      <td>17</td>\n",
              "      <td>171</td>\n",
              "      <td>64</td>\n",
              "      <td>310</td>\n",
              "    </tr>\n",
              "    <tr>\n",
              "      <th>5</th>\n",
              "      <td>6</td>\n",
              "      <td>3</td>\n",
              "      <td>2</td>\n",
              "      <td>8</td>\n",
              "      <td>6</td>\n",
              "      <td>3.6</td>\n",
              "      <td>2</td>\n",
              "      <td>17</td>\n",
              "      <td>146</td>\n",
              "      <td>66</td>\n",
              "      <td>290</td>\n",
              "    </tr>\n",
              "    <tr>\n",
              "      <th>6</th>\n",
              "      <td>7</td>\n",
              "      <td>1</td>\n",
              "      <td>1</td>\n",
              "      <td>1</td>\n",
              "      <td>2</td>\n",
              "      <td>3.4</td>\n",
              "      <td>2</td>\n",
              "      <td>18</td>\n",
              "      <td>159</td>\n",
              "      <td>61</td>\n",
              "      <td>280</td>\n",
              "    </tr>\n",
              "    <tr>\n",
              "      <th>7</th>\n",
              "      <td>8</td>\n",
              "      <td>1</td>\n",
              "      <td>1</td>\n",
              "      <td>0</td>\n",
              "      <td>0</td>\n",
              "      <td>2.6</td>\n",
              "      <td>1</td>\n",
              "      <td>24</td>\n",
              "      <td>162</td>\n",
              "      <td>72</td>\n",
              "      <td>250</td>\n",
              "    </tr>\n",
              "    <tr>\n",
              "      <th>8</th>\n",
              "      <td>9</td>\n",
              "      <td>3</td>\n",
              "      <td>2</td>\n",
              "      <td>0</td>\n",
              "      <td>6</td>\n",
              "      <td>3.4</td>\n",
              "      <td>2</td>\n",
              "      <td>20</td>\n",
              "      <td>170</td>\n",
              "      <td>70</td>\n",
              "      <td>320</td>\n",
              "    </tr>\n",
              "    <tr>\n",
              "      <th>9</th>\n",
              "      <td>10</td>\n",
              "      <td>3</td>\n",
              "      <td>2</td>\n",
              "      <td>1</td>\n",
              "      <td>3</td>\n",
              "      <td>3.9</td>\n",
              "      <td>2</td>\n",
              "      <td>26</td>\n",
              "      <td>172</td>\n",
              "      <td>76</td>\n",
              "      <td>240</td>\n",
              "    </tr>\n",
              "  </tbody>\n",
              "</table>\n",
              "</div>\n",
              "      <button class=\"colab-df-convert\" onclick=\"convertToInteractive('df-7508e196-f933-4f14-b70a-71cf54230cca')\"\n",
              "              title=\"Convert this dataframe to an interactive table.\"\n",
              "              style=\"display:none;\">\n",
              "        \n",
              "  <svg xmlns=\"http://www.w3.org/2000/svg\" height=\"24px\"viewBox=\"0 0 24 24\"\n",
              "       width=\"24px\">\n",
              "    <path d=\"M0 0h24v24H0V0z\" fill=\"none\"/>\n",
              "    <path d=\"M18.56 5.44l.94 2.06.94-2.06 2.06-.94-2.06-.94-.94-2.06-.94 2.06-2.06.94zm-11 1L8.5 8.5l.94-2.06 2.06-.94-2.06-.94L8.5 2.5l-.94 2.06-2.06.94zm10 10l.94 2.06.94-2.06 2.06-.94-2.06-.94-.94-2.06-.94 2.06-2.06.94z\"/><path d=\"M17.41 7.96l-1.37-1.37c-.4-.4-.92-.59-1.43-.59-.52 0-1.04.2-1.43.59L10.3 9.45l-7.72 7.72c-.78.78-.78 2.05 0 2.83L4 21.41c.39.39.9.59 1.41.59.51 0 1.02-.2 1.41-.59l7.78-7.78 2.81-2.81c.8-.78.8-2.07 0-2.86zM5.41 20L4 18.59l7.72-7.72 1.47 1.35L5.41 20z\"/>\n",
              "  </svg>\n",
              "      </button>\n",
              "      \n",
              "  <style>\n",
              "    .colab-df-container {\n",
              "      display:flex;\n",
              "      flex-wrap:wrap;\n",
              "      gap: 12px;\n",
              "    }\n",
              "\n",
              "    .colab-df-convert {\n",
              "      background-color: #E8F0FE;\n",
              "      border: none;\n",
              "      border-radius: 50%;\n",
              "      cursor: pointer;\n",
              "      display: none;\n",
              "      fill: #1967D2;\n",
              "      height: 32px;\n",
              "      padding: 0 0 0 0;\n",
              "      width: 32px;\n",
              "    }\n",
              "\n",
              "    .colab-df-convert:hover {\n",
              "      background-color: #E2EBFA;\n",
              "      box-shadow: 0px 1px 2px rgba(60, 64, 67, 0.3), 0px 1px 3px 1px rgba(60, 64, 67, 0.15);\n",
              "      fill: #174EA6;\n",
              "    }\n",
              "\n",
              "    [theme=dark] .colab-df-convert {\n",
              "      background-color: #3B4455;\n",
              "      fill: #D2E3FC;\n",
              "    }\n",
              "\n",
              "    [theme=dark] .colab-df-convert:hover {\n",
              "      background-color: #434B5C;\n",
              "      box-shadow: 0px 1px 3px 1px rgba(0, 0, 0, 0.15);\n",
              "      filter: drop-shadow(0px 1px 2px rgba(0, 0, 0, 0.3));\n",
              "      fill: #FFFFFF;\n",
              "    }\n",
              "  </style>\n",
              "\n",
              "      <script>\n",
              "        const buttonEl =\n",
              "          document.querySelector('#df-7508e196-f933-4f14-b70a-71cf54230cca button.colab-df-convert');\n",
              "        buttonEl.style.display =\n",
              "          google.colab.kernel.accessAllowed ? 'block' : 'none';\n",
              "\n",
              "        async function convertToInteractive(key) {\n",
              "          const element = document.querySelector('#df-7508e196-f933-4f14-b70a-71cf54230cca');\n",
              "          const dataTable =\n",
              "            await google.colab.kernel.invokeFunction('convertToInteractive',\n",
              "                                                     [key], {});\n",
              "          if (!dataTable) return;\n",
              "\n",
              "          const docLinkHtml = 'Like what you see? Visit the ' +\n",
              "            '<a target=\"_blank\" href=https://colab.research.google.com/notebooks/data_table.ipynb>data table notebook</a>'\n",
              "            + ' to learn more about interactive tables.';\n",
              "          element.innerHTML = '';\n",
              "          dataTable['output_type'] = 'display_data';\n",
              "          await google.colab.output.renderOutput(dataTable, element);\n",
              "          const docLink = document.createElement('div');\n",
              "          docLink.innerHTML = docLinkHtml;\n",
              "          element.appendChild(docLink);\n",
              "        }\n",
              "      </script>\n",
              "    </div>\n",
              "  </div>\n",
              "  "
            ]
          },
          "metadata": {},
          "execution_count": 62
        }
      ],
      "source": [
        "est = pd.read_excel('bd_estudiantes.xlsx')\n",
        "est.head(10)"
      ]
    },
    {
      "cell_type": "code",
      "execution_count": 63,
      "metadata": {
        "id": "N9cJo21pmeLj"
      },
      "outputs": [],
      "source": [
        "x_prommat=est['prom_matematicas']\n",
        "y_calicfes=est['cal_icfes']"
      ]
    },
    {
      "cell_type": "code",
      "source": [
        "plt.scatter(x_prommat, y_calicfes); plt.xlabel('promedio matematicas'); plt.ylabel('Calificación icfes');\n"
      ],
      "metadata": {
        "colab": {
          "base_uri": "https://localhost:8080/",
          "height": 279
        },
        "id": "YOZi2Gd0oxGj",
        "outputId": "5efd6bd4-914e-4252-fb04-b3f40e40d313"
      },
      "execution_count": 30,
      "outputs": [
        {
          "output_type": "display_data",
          "data": {
            "text/plain": [
              "<Figure size 432x288 with 1 Axes>"
            ],
            "image/png": "[encoded data removed]"
          },
          "metadata": {
            "needs_background": "light"
          }
        }
      ]
    },
    {
      "cell_type": "code",
      "source": [
        "X = np.array([np.ones(len(x_prommat)), x_prommat]).T\n",
        "a = np.linalg.inv(X.T @ X) @ X.T @ y_calicfes\n"
      ],
      "metadata": {
        "id": "BXp7gepzpD6c"
      },
      "execution_count": 42,
      "outputs": []
    },
    {
      "cell_type": "code",
      "source": [
        "x_predict = np.linspace(1.5,5, num=100)\n",
        "y_predict = a[0] + a[1] * x_predict"
      ],
      "metadata": {
        "id": "wMZhvuSG0JoJ"
      },
      "execution_count": 44,
      "outputs": []
    },
    {
      "cell_type": "code",
      "source": [
        "a[1]\n",
        "print(len(x_predict))\n",
        "print(len(y_predict))"
      ],
      "metadata": {
        "colab": {
          "base_uri": "https://localhost:8080/"
        },
        "id": "m4W7yCfn1sEn",
        "outputId": "7bbbfd6b-0582-4e7f-f891-e15c4c81b382"
      },
      "execution_count": 51,
      "outputs": [
        {
          "output_type": "stream",
          "name": "stdout",
          "text": [
            "100\n",
            "100\n"
          ]
        }
      ]
    },
    {
      "cell_type": "code",
      "source": [
        "plt.scatter(x_prommat, y_calicfes)\n",
        "plt.xlabel('x'); plt.ylabel('icfes'); plt.plot(x_predict, y_predict, 'c');"
      ],
      "metadata": {
        "colab": {
          "base_uri": "https://localhost:8080/",
          "height": 279
        },
        "id": "da4mdt7K2Bn7",
        "outputId": "bceb93fd-ebde-4fd0-cb66-7ecbbeb6ed4c"
      },
      "execution_count": 54,
      "outputs": [
        {
          "output_type": "display_data",
          "data": {
            "text/plain": [
              "<Figure size 432x288 with 1 Axes>"
            ],
            "image/png": "[encoded data removed]"
          },
          "metadata": {
            "needs_background": "light"
          }
        }
      ]
    },
    {
      "cell_type": "code",
      "source": [
        "y = a[1]*(2.3)+a[0]"
      ],
      "metadata": {
        "id": "PNsp88LC2Rr1"
      },
      "execution_count": 55,
      "outputs": []
    },
    {
      "cell_type": "code",
      "source": [
        "y1 = f\"{y:.1f}\"\n",
        "print('Si mi promedio matematico es 2.3 mi calificación icfes sera: '+ str(y1) + ' puntos.')"
      ],
      "metadata": {
        "id": "_TNGn3IH5TmL",
        "outputId": "636ef522-20c8-444c-f0d2-7c25abf708fb",
        "colab": {
          "base_uri": "https://localhost:8080/"
        }
      },
      "execution_count": 60,
      "outputs": [
        {
          "output_type": "stream",
          "name": "stdout",
          "text": [
            "Si mi promedio matematico es 2.3 mi calificación icfes sera: 279.0 puntos.\n"
          ]
        }
      ]
    },
    {
      "cell_type": "code",
      "source": [],
      "metadata": {
        "id": "BdZgxSHf5bg9"
      },
      "execution_count": null,
      "outputs": []
    }
  ],
  "metadata": {
    "kernelspec": {
      "display_name": "Python 3",
      "language": "python",
      "name": "python3"
    },
    "language_info": {
      "codemirror_mode": {
        "name": "ipython",
        "version": 3
      },
      "file_extension": ".py",
      "mimetype": "text/x-python",
      "name": "python",
      "nbconvert_exporter": "python",
      "pygments_lexer": "ipython3",
      "version": "3.11.0"
    },
    "orig_nbformat": 4,
    "colab": {
      "provenance": [],
      "toc_visible": true,
      "include_colab_link": true
    }
  },
  "nbformat": 4,
  "nbformat_minor": 0
}