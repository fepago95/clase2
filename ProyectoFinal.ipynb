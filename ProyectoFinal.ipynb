{
  "cells": [
    {
      "cell_type": "markdown",
      "metadata": {
        "id": "view-in-github",
        "colab_type": "text"
      },
      "source": [
        "<a href=\"https://colab.research.google.com/github/fepago95/clase2/blob/main/ProyectoFinal.ipynb\" target=\"_parent\"><img src=\"https://colab.research.google.com/assets/colab-badge.svg\" alt=\"Open In Colab\"/></a>"
      ]
    },
    {
      "cell_type": "markdown",
      "metadata": {
        "id": "xhWqzIvNmeLc"
      },
      "source": [
        "# PROYECTO FINAL\n",
        "\n",
        "### NOMBRE: Federico Parejea Gómez / C.C: 1053840480\n",
        "### CURSO: Programación para Ingenieria - Maestria en Ingenieria\n"
      ]
    },
    {
      "cell_type": "markdown",
      "metadata": {
        "id": "w48yMWO0meLg"
      },
      "source": [
        "## Planteamiento del problema\n",
        "\n",
        "Se presenta una base de "
      ]
    },
    {
      "cell_type": "code",
      "execution_count": null,
      "metadata": {
        "id": "cGmPlT35meLh"
      },
      "outputs": [],
      "source": [
        "import pandas as pd\n",
        "import numpy as np\n",
        "import matplotlib.pyplot as plt\n",
        "import matplotlib as mpl\n",
        "import seaborn as sns\n",
        "\n",
        "%matplotlib inline"
      ]
    },
    {
      "cell_type": "code",
      "execution_count": null,
      "metadata": {
        "id": "p5lFthEGmeLi",
        "outputId": "a8508576-f931-4863-cdcd-952e3793f39f"
      },
      "outputs": [
        {
          "name": "stdout",
          "output_type": "stream",
          "text": [
            "   0  1  2   3    4  5   6    7   8    9\n",
            "0  2  1  3   4  2.6  1  18  140  46  410\n",
            "1  2  2  2   2  4.1  1  20  158  48  360\n",
            "2  1  2  4   6  3.2  2  21  162  50  320\n",
            "3  1  2  3   2  3.3  2  16  166  58  280\n",
            "4  2  1  6  10  3.9  2  17  171  64  310\n"
          ]
        }
      ],
      "source": [
        "df= pd.read_csv('bd_estudiantes.csv', header=None)\n",
        "print(estudiantes.head())"
      ]
    },
    {
      "cell_type": "code",
      "execution_count": null,
      "metadata": {
        "id": "N9cJo21pmeLj",
        "outputId": "bc82b253-15cf-4831-b0ce-52ebb4021708"
      },
      "outputs": [
        {
          "data": {
            "text/plain": [
              "['facultad',\n",
              " 'sexo',\n",
              " 'hermanos',\n",
              " 'libros_leidos',\n",
              " 'prom_matematicas',\n",
              " 'edad_anos',\n",
              " 'estatura',\n",
              " 'peso']"
            ]
          },
          "execution_count": 42,
          "metadata": {},
          "output_type": "execute_result"
        }
      ],
      "source": [
        "nombres = ['facultad','sexo','hermanos','libros_leidos','prom_matematicas','edad_anos','estatura','peso']\n",
        "nombres"
      ]
    },
    {
      "cell_type": "code",
      "execution_count": null,
      "metadata": {
        "id": "9pWMuMYFmeLk"
      },
      "outputs": [],
      "source": []
    }
  ],
  "metadata": {
    "kernelspec": {
      "display_name": "Python 3",
      "language": "python",
      "name": "python3"
    },
    "language_info": {
      "codemirror_mode": {
        "name": "ipython",
        "version": 3
      },
      "file_extension": ".py",
      "mimetype": "text/x-python",
      "name": "python",
      "nbconvert_exporter": "python",
      "pygments_lexer": "ipython3",
      "version": "3.11.0"
    },
    "orig_nbformat": 4,
    "colab": {
      "provenance": [],
      "include_colab_link": true
    }
  },
  "nbformat": 4,
  "nbformat_minor": 0
}