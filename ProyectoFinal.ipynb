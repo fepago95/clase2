{
 "cells": [
  {
   "attachments": {},
   "cell_type": "markdown",
   "metadata": {},
   "source": [
    "# PROYECTO FINAL\n",
    "\n",
    "### NOMBRE: Federico Parejea Gómez / C.C: 1053840480\n",
    "### CURSO: Programación para Ingenieria - Maestria en Ingenieria\n"
   ]
  },
  {
   "attachments": {},
   "cell_type": "markdown",
   "metadata": {},
   "source": [
    "## Planteamiento del problema\n",
    "\n",
    "Se presenta una base de "
   ]
  }
 ],
 "metadata": {
  "language_info": {
   "name": "python"
  },
  "orig_nbformat": 4
 },
 "nbformat": 4,
 "nbformat_minor": 2
}
