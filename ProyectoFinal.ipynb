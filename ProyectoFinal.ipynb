{
 "cells": [
  {
   "attachments": {},
   "cell_type": "markdown",
   "metadata": {},
   "source": [
    "# PROYECTO FINAL\n",
    "\n",
    "### NOMBRE: Federico Parejea Gómez / C.C: 1053840480\n",
    "### CURSO: Programación para Ingenieria - Maestria en Ingenieria\n"
   ]
  },
  {
   "attachments": {},
   "cell_type": "markdown",
   "metadata": {},
   "source": [
    "## Planteamiento del problema\n",
    "\n",
    "Se presenta una base de "
   ]
  },
  {
   "cell_type": "code",
   "execution_count": 18,
   "metadata": {},
   "outputs": [],
   "source": [
    "import pandas as pd\n",
    "import numpy as np\n",
    "import matplotlib.pyplot as plt\n",
    "import matplotlib as mpl\n",
    "import seaborn as sns\n",
    "\n",
    "%matplotlib inline"
   ]
  },
  {
   "cell_type": "code",
   "execution_count": 41,
   "metadata": {},
   "outputs": [
    {
     "name": "stdout",
     "output_type": "stream",
     "text": [
      "   0  1  2   3    4  5   6    7   8    9\n",
      "0  2  1  3   4  2.6  1  18  140  46  410\n",
      "1  2  2  2   2  4.1  1  20  158  48  360\n",
      "2  1  2  4   6  3.2  2  21  162  50  320\n",
      "3  1  2  3   2  3.3  2  16  166  58  280\n",
      "4  2  1  6  10  3.9  2  17  171  64  310\n"
     ]
    }
   ],
   "source": [
    "df= pd.read_csv('bd_estudiantes.csv', header=None)\n",
    "print(estudiantes.head())"
   ]
  },
  {
   "cell_type": "code",
   "execution_count": 42,
   "metadata": {},
   "outputs": [
    {
     "data": {
      "text/plain": [
       "['facultad',\n",
       " 'sexo',\n",
       " 'hermanos',\n",
       " 'libros_leidos',\n",
       " 'prom_matematicas',\n",
       " 'edad_anos',\n",
       " 'estatura',\n",
       " 'peso']"
      ]
     },
     "execution_count": 42,
     "metadata": {},
     "output_type": "execute_result"
    }
   ],
   "source": [
    "nombres = ['facultad','sexo','hermanos','libros_leidos','prom_matematicas','edad_anos','estatura','peso']\n",
    "nombres"
   ]
  },
  {
   "cell_type": "code",
   "execution_count": null,
   "metadata": {},
   "outputs": [],
   "source": []
  }
 ],
 "metadata": {
  "kernelspec": {
   "display_name": "Python 3",
   "language": "python",
   "name": "python3"
  },
  "language_info": {
   "codemirror_mode": {
    "name": "ipython",
    "version": 3
   },
   "file_extension": ".py",
   "mimetype": "text/x-python",
   "name": "python",
   "nbconvert_exporter": "python",
   "pygments_lexer": "ipython3",
   "version": "3.11.0"
  },
  "orig_nbformat": 4
 },
 "nbformat": 4,
 "nbformat_minor": 2
}
