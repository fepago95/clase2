{
 "cells": [
  {
   "attachments": {},
   "cell_type": "markdown",
   "metadata": {},
   "source": [
    "# TAREA FOURIER\n",
    "\n",
    "### NOMBRE: Federico Parejea Gómez / C.C: 1053840480\n",
    "### CURSO: Programación para Ingenieria - Maestria en Ingenieria"
   ]
  },
  {
   "attachments": {},
   "cell_type": "markdown",
   "metadata": {},
   "source": [
    "Declaración librerias"
   ]
  },
  {
   "cell_type": "code",
   "execution_count": 1,
   "metadata": {},
   "outputs": [],
   "source": [
    "import numpy as np #Llamamos \n",
    "from scipy import integrate\n",
    "import matplotlib.pyplot as plt\n",
    "import scipy as sp\n",
    "import sympy as sym\n",
    "\n",
    "%matplotlib inline"
   ]
  },
  {
   "attachments": {},
   "cell_type": "markdown",
   "metadata": {},
   "source": [
    "Variable simbolicas n y t"
   ]
  },
  {
   "cell_type": "code",
   "execution_count": 3,
   "metadata": {},
   "outputs": [],
   "source": [
    "n = sym.Symbol('n')\n",
    "t = sym.Symbol('t')"
   ]
  },
  {
   "attachments": {},
   "cell_type": "markdown",
   "metadata": {},
   "source": [
    "Funcion periodica por tramos"
   ]
  },
  {
   "cell_type": "code",
   "execution_count": 4,
   "metadata": {},
   "outputs": [
    {
     "name": "stdout",
     "output_type": "stream",
     "text": [
      "Valor de T es= 6\n",
      "Valor de w0 es= 1.0471975511965976\n"
     ]
    }
   ],
   "source": [
    "Tmin = -3\n",
    "Tmax = 3\n",
    "\n",
    "T=Tmax-Tmin\n",
    "print('Valor de T es=',T)\n",
    "w=2*np.pi/T\n",
    "print('Valor de w0 es=', w)"
   ]
  },
  {
   "attachments": {},
   "cell_type": "markdown",
   "metadata": {},
   "source": [
    "Defino las funcion a trozos"
   ]
  },
  {
   "cell_type": "code",
   "execution_count": 5,
   "metadata": {},
   "outputs": [
    {
     "data": {
      "text/latex": [
       "$\\displaystyle \\begin{cases} -1 & \\text{for}\\: t \\geq -3.0 \\wedge t \\leq -1.5 \\\\1 & \\text{for}\\: t \\leq 1.5 \\wedge t > -1.5 \\\\-1 & \\text{for}\\: t \\leq 3.0 \\wedge t > 1.5 \\end{cases}$"
      ],
      "text/plain": [
       "Piecewise((-1, (t >= -3.0) & (t <= -1.5)), (1, (t <= 1.5) & (t > -1.5)), (-1, (t <= 3.0) & (t > 1.5)))"
      ]
     },
     "execution_count": 5,
     "metadata": {},
     "output_type": "execute_result"
    }
   ],
   "source": [
    "f1=-1\n",
    "f2=1\n",
    "f3=-1\n",
    "\n",
    "ft =sym.Piecewise((f1, ((t >= -T/2) & (t <= -T/4))), (f2, ((t > -T/4) & (t <= T/4))), (f3, ((t > T/4) & (t <= T/2))))\n",
    "ft"
   ]
  },
  {
   "attachments": {},
   "cell_type": "markdown",
   "metadata": {},
   "source": [
    "Calcular los coeficientes de fourier"
   ]
  },
  {
   "cell_type": "code",
   "execution_count": 6,
   "metadata": {},
   "outputs": [
    {
     "name": "stdout",
     "output_type": "stream",
     "text": [
      "a0 = \n",
      "0\n",
      "an = \n",
      "⎧1.27323954473516⋅sin(1.5707963267949⋅n) - 0.636619772367581⋅sin(3.14159265358\n",
      "⎪─────────────────────────────────────────────────────────────────────────────\n",
      "⎨                                         n                                   \n",
      "⎪                                                                             \n",
      "⎩                                         0                                   \n",
      "\n",
      "979⋅n)                                                                        \n",
      "──────  for (n > -∞ ∨ n > 0) ∧ (n > -∞ ∨ n < ∞) ∧ (n > 0 ∨ n < 0) ∧ (n < 0 ∨ n\n",
      "                                                                              \n",
      "                                                                              \n",
      "                                         otherwise                            \n",
      "\n",
      "     \n",
      " < ∞)\n",
      "     \n",
      "     \n",
      "     \n",
      "bn = \n",
      "0\n"
     ]
    }
   ],
   "source": [
    "# Calculo integral para a0\n",
    "f_integral = ft\n",
    "a0 = (2/T)*sym.integrate(f_integral,(t,Tmin,Tmax))\n",
    "print(\"a0 = \")\n",
    "sym.pprint(a0)\n",
    "\n",
    "# Calculo integral para an\n",
    "f_integral = ft*sym.cos(n*w*t)\n",
    "an = (2/T)*sym.integrate(f_integral,(t,Tmin,Tmax))\n",
    "an = sym.simplify(an)\n",
    "print(\"an = \")\n",
    "sym.pprint(an)\n",
    "\n",
    "# Calculo la integral para bn\n",
    "f_integral = ft*sym.sin(n*w*t)\n",
    "bn = (2/T)*sym.integrate(f_integral,(t,Tmin,Tmax))\n",
    "print(\"bn = \")\n",
    "bn = sym.simplify(bn)\n",
    "sym.pprint(bn)"
   ]
  },
  {
   "attachments": {},
   "cell_type": "markdown",
   "metadata": {},
   "source": [
    "Representación expanción de fourier"
   ]
  },
  {
   "cell_type": "code",
   "execution_count": 9,
   "metadata": {},
   "outputs": [
    {
     "name": "stdout",
     "output_type": "stream",
     "text": [
      "f(t)= \n",
      "1.27323954473516⋅cos(1.0471975511966⋅t) - 0.424413181578388⋅cos(3.141592653589\n",
      "79⋅t) + 0.254647908947032⋅cos(5.23598775598299⋅t) - 0.181891363533595⋅cos(7.33\n",
      "038285837618⋅t)\n"
     ]
    }
   ],
   "source": [
    "# Definimos el número de armónicos para la expansión\n",
    "serie = 0\n",
    "Armonicos = 32\n",
    "\n",
    "for i in range(1,Armonicos+1):\n",
    "    \n",
    "    # Evaluamos los coeficientes para cada armónico\n",
    "    an_c = an.subs(n,i)\n",
    "    bn_c = bn.subs(n,i)\n",
    "    \n",
    "    if abs(an_c) < 0.0001: an_c = 0\n",
    "    if abs(bn_c) < 0.0001: bn_c = 0\n",
    "        \n",
    "    serie= serie + an_c*sym.cos(i*w*t) # Términos coseno de la serie\n",
    "    serie = serie + bn_c*sym.sin(i*w*t) # Términos seno de la serie\n",
    "\n",
    "serie = a0/2+serie  # Expansión final de la serie\n",
    "\n",
    "print('f(t)= ')\n",
    "sym.pprint(serie)"
   ]
  },
  {
   "cell_type": "code",
   "execution_count": 10,
   "metadata": {},
   "outputs": [
    {
     "data": {
      "image/png": "[encoded data removed]",
      "text/plain": [
       "<Figure size 640x480 with 1 Axes>"
      ]
     },
     "metadata": {},
     "output_type": "display_data"
    }
   ],
   "source": [
    "# Convertimos la expresión Sympy a una función evaluable\n",
    "fserie = sym.lambdify(t,serie)\n",
    "f = sym.lambdify(t,ft)\n",
    "\n",
    "# Creamos un vector de tiempo para la gráfica\n",
    "v_tiempo = np.linspace(Tmin,Tmax,200)\n",
    "\n",
    "# Evaluamos las funciones\n",
    "fserieG = fserie(v_tiempo)\n",
    "fG = f(v_tiempo)\n",
    " \n",
    "plt.plot(v_tiempo,fG,label = 'f(t)')\n",
    "plt.plot(v_tiempo,fserieG,label = 'Expansión')\n",
    "\n",
    "plt.xlabel('tiempo')\n",
    "plt.legend()\n",
    "plt.title('Expansión en Series de Fourier')\n",
    "plt.show()# "
   ]
  }
 ],
 "metadata": {
  "kernelspec": {
   "display_name": "Python 3",
   "language": "python",
   "name": "python3"
  },
  "language_info": {
   "codemirror_mode": {
    "name": "ipython",
    "version": 3
   },
   "file_extension": ".py",
   "mimetype": "text/x-python",
   "name": "python",
   "nbconvert_exporter": "python",
   "pygments_lexer": "ipython3",
   "version": "3.11.0"
  },
  "orig_nbformat": 4,
  "vscode": {
   "interpreter": {
    "hash": "8b0148b44fc930c248b441a43e39948db9c4f58989130b7143122b11e369f1f7"
   }
  }
 },
 "nbformat": 4,
 "nbformat_minor": 2
}
